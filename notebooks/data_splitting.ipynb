{
 "cells": [
  {
   "cell_type": "code",
   "execution_count": 1,
   "metadata": {},
   "outputs": [
    {
     "name": "stdout",
     "output_type": "stream",
     "text": [
      "Defaulting to user installation because normal site-packages is not writeable\n",
      "Collecting scikit-learn\n",
      "  Downloading scikit_learn-1.4.2-cp312-cp312-win_amd64.whl.metadata (11 kB)\n",
      "Requirement already satisfied: numpy>=1.19.5 in c:\\users\\wasadmin\\appdata\\roaming\\python\\python312\\site-packages (from scikit-learn) (1.26.4)\n",
      "Collecting scipy>=1.6.0 (from scikit-learn)\n",
      "  Downloading scipy-1.13.0-cp312-cp312-win_amd64.whl.metadata (60 kB)\n",
      "     ---------------------------------------- 0.0/60.6 kB ? eta -:--:--\n",
      "     ------ --------------------------------- 10.2/60.6 kB ? eta -:--:--\n",
      "     ------------------- ------------------ 30.7/60.6 kB 660.6 kB/s eta 0:00:01\n",
      "     -------------------------------------- 60.6/60.6 kB 535.5 kB/s eta 0:00:00\n",
      "Collecting joblib>=1.2.0 (from scikit-learn)\n",
      "  Downloading joblib-1.4.2-py3-none-any.whl.metadata (5.4 kB)\n",
      "Collecting threadpoolctl>=2.0.0 (from scikit-learn)\n",
      "  Downloading threadpoolctl-3.5.0-py3-none-any.whl.metadata (13 kB)\n",
      "Downloading scikit_learn-1.4.2-cp312-cp312-win_amd64.whl (10.6 MB)\n",
      "   ---------------------------------------- 0.0/10.6 MB ? eta -:--:--\n",
      "   ------ --------------------------------- 1.7/10.6 MB 35.3 MB/s eta 0:00:01\n",
      "   ---------- ----------------------------- 2.7/10.6 MB 34.3 MB/s eta 0:00:01\n",
      "   -------------- ------------------------- 3.7/10.6 MB 33.8 MB/s eta 0:00:01\n",
      "   ------------------ --------------------- 4.9/10.6 MB 31.2 MB/s eta 0:00:01\n",
      "   ---------------------- ----------------- 6.1/10.6 MB 30.0 MB/s eta 0:00:01\n",
      "   --------------------------- ------------ 7.2/10.6 MB 30.6 MB/s eta 0:00:01\n",
      "   ------------------------------- -------- 8.3/10.6 MB 31.0 MB/s eta 0:00:01\n",
      "   ----------------------------------- ---- 9.3/10.6 MB 29.8 MB/s eta 0:00:01\n",
      "   ---------------------------------------  10.4/10.6 MB 29.7 MB/s eta 0:00:01\n",
      "   ---------------------------------------  10.6/10.6 MB 29.7 MB/s eta 0:00:01\n",
      "   ---------------------------------------  10.6/10.6 MB 29.7 MB/s eta 0:00:01\n",
      "   ---------------------------------------- 10.6/10.6 MB 24.2 MB/s eta 0:00:00\n",
      "Downloading joblib-1.4.2-py3-none-any.whl (301 kB)\n",
      "   ---------------------------------------- 0.0/301.8 kB ? eta -:--:--\n",
      "   ---------------------------------------- 301.8/301.8 kB 9.1 MB/s eta 0:00:00\n",
      "Downloading scipy-1.13.0-cp312-cp312-win_amd64.whl (45.9 MB)\n",
      "   ---------------------------------------- 0.0/45.9 MB ? eta -:--:--\n",
      "    --------------------------------------- 1.1/45.9 MB 35.3 MB/s eta 0:00:02\n",
      "   - -------------------------------------- 2.1/45.9 MB 33.3 MB/s eta 0:00:02\n",
      "   -- ------------------------------------- 3.1/45.9 MB 28.1 MB/s eta 0:00:02\n",
      "   --- ------------------------------------ 4.2/45.9 MB 29.8 MB/s eta 0:00:02\n",
      "   ---- ----------------------------------- 5.4/45.9 MB 28.9 MB/s eta 0:00:02\n",
      "   ----- ---------------------------------- 6.5/45.9 MB 29.8 MB/s eta 0:00:02\n",
      "   ------ --------------------------------- 7.6/45.9 MB 28.7 MB/s eta 0:00:02\n",
      "   ------- -------------------------------- 9.0/45.9 MB 28.7 MB/s eta 0:00:02\n",
      "   -------- ------------------------------- 10.3/45.9 MB 29.7 MB/s eta 0:00:02\n",
      "   --------- ------------------------------ 11.4/45.9 MB 28.4 MB/s eta 0:00:02\n",
      "   ---------- ----------------------------- 12.4/45.9 MB 28.5 MB/s eta 0:00:02\n",
      "   ----------- ---------------------------- 13.5/45.9 MB 28.5 MB/s eta 0:00:02\n",
      "   ------------ --------------------------- 14.7/45.9 MB 29.7 MB/s eta 0:00:02\n",
      "   ------------- -------------------------- 15.9/45.9 MB 28.5 MB/s eta 0:00:02\n",
      "   -------------- ------------------------- 17.0/45.9 MB 28.5 MB/s eta 0:00:02\n",
      "   --------------- ------------------------ 18.0/45.9 MB 28.5 MB/s eta 0:00:01\n",
      "   ---------------- ----------------------- 19.1/45.9 MB 27.3 MB/s eta 0:00:01\n",
      "   ----------------- ---------------------- 20.6/45.9 MB 28.5 MB/s eta 0:00:01\n",
      "   -------------------- ------------------- 23.0/45.9 MB 28.5 MB/s eta 0:00:01\n",
      "   --------------------- ------------------ 24.2/45.9 MB 29.7 MB/s eta 0:00:01\n",
      "   --------------------- ------------------ 24.9/45.9 MB 28.5 MB/s eta 0:00:01\n",
      "   --------------------- ------------------ 24.9/45.9 MB 28.5 MB/s eta 0:00:01\n",
      "   ---------------------- ----------------- 25.3/45.9 MB 23.4 MB/s eta 0:00:01\n",
      "   ------------------------ --------------- 27.8/45.9 MB 26.2 MB/s eta 0:00:01\n",
      "   ------------------------- -------------- 28.8/45.9 MB 27.3 MB/s eta 0:00:01\n",
      "   -------------------------- ------------- 30.1/45.9 MB 26.2 MB/s eta 0:00:01\n",
      "   -------------------------- ------------- 30.8/45.9 MB 26.2 MB/s eta 0:00:01\n",
      "   --------------------------- ------------ 31.8/45.9 MB 24.2 MB/s eta 0:00:01\n",
      "   ----------------------------- ---------- 33.9/45.9 MB 27.3 MB/s eta 0:00:01\n",
      "   ------------------------------ --------- 34.9/45.9 MB 27.3 MB/s eta 0:00:01\n",
      "   ------------------------------- -------- 35.9/45.9 MB 32.8 MB/s eta 0:00:01\n",
      "   -------------------------------- ------- 37.0/45.9 MB 31.2 MB/s eta 0:00:01\n",
      "   --------------------------------- ------ 38.0/45.9 MB 28.4 MB/s eta 0:00:01\n",
      "   ---------------------------------- ----- 39.0/45.9 MB 28.4 MB/s eta 0:00:01\n",
      "   ---------------------------------- ----- 40.2/45.9 MB 28.4 MB/s eta 0:00:01\n",
      "   ----------------------------------- ---- 41.2/45.9 MB 29.7 MB/s eta 0:00:01\n",
      "   ------------------------------------- -- 42.6/45.9 MB 29.7 MB/s eta 0:00:01\n",
      "   -------------------------------------- - 43.7/45.9 MB 27.3 MB/s eta 0:00:01\n",
      "   ---------------------------------------  45.6/45.9 MB 27.3 MB/s eta 0:00:01\n",
      "   ---------------------------------------  45.9/45.9 MB 28.5 MB/s eta 0:00:01\n",
      "   ---------------------------------------  45.9/45.9 MB 28.5 MB/s eta 0:00:01\n",
      "   ---------------------------------------  45.9/45.9 MB 28.5 MB/s eta 0:00:01\n",
      "   ---------------------------------------  45.9/45.9 MB 28.5 MB/s eta 0:00:01\n",
      "   ---------------------------------------  45.9/45.9 MB 28.5 MB/s eta 0:00:01\n",
      "   ---------------------------------------  45.9/45.9 MB 28.5 MB/s eta 0:00:01\n",
      "   ---------------------------------------  45.9/45.9 MB 28.5 MB/s eta 0:00:01\n",
      "   ---------------------------------------  45.9/45.9 MB 28.5 MB/s eta 0:00:01\n",
      "   ---------------------------------------  45.9/45.9 MB 28.5 MB/s eta 0:00:01\n",
      "   ---------------------------------------  45.9/45.9 MB 28.5 MB/s eta 0:00:01\n",
      "   ---------------------------------------  45.9/45.9 MB 28.5 MB/s eta 0:00:01\n",
      "   ---------------------------------------  45.9/45.9 MB 28.5 MB/s eta 0:00:01\n",
      "   ---------------------------------------  45.9/45.9 MB 28.5 MB/s eta 0:00:01\n",
      "   ---------------------------------------  45.9/45.9 MB 28.5 MB/s eta 0:00:01\n",
      "   ---------------------------------------  45.9/45.9 MB 28.5 MB/s eta 0:00:01\n",
      "   ---------------------------------------  45.9/45.9 MB 28.5 MB/s eta 0:00:01\n",
      "   ---------------------------------------  45.9/45.9 MB 28.5 MB/s eta 0:00:01\n",
      "   ---------------------------------------  45.9/45.9 MB 28.5 MB/s eta 0:00:01\n",
      "   ---------------------------------------- 45.9/45.9 MB 9.6 MB/s eta 0:00:00\n",
      "Downloading threadpoolctl-3.5.0-py3-none-any.whl (18 kB)\n",
      "Installing collected packages: threadpoolctl, scipy, joblib, scikit-learn\n",
      "Successfully installed joblib-1.4.2 scikit-learn-1.4.2 scipy-1.13.0 threadpoolctl-3.5.0\n"
     ]
    }
   ],
   "source": [
    "! pip install scikit-learn"
   ]
  },
  {
   "cell_type": "code",
   "execution_count": 2,
   "metadata": {},
   "outputs": [
    {
     "name": "stdout",
     "output_type": "stream",
     "text": [
      "ShuffleSplit:\n",
      "X_train shape: (80000, 5)\n",
      "X_test shape: (20000, 5)\n",
      "y_train shape: (80000,)\n",
      "y_test shape: (20000,)\n"
     ]
    }
   ],
   "source": [
    "import pandas as pd\n",
    "from sklearn.model_selection import ShuffleSplit\n",
    "\n",
    "# Load the dataset\n",
    "data = pd.read_csv('customers.csv')\n",
    "\n",
    "# Define the features and target variable\n",
    "X = data.drop(columns=['Frequent_Losers'])  # Features\n",
    "y = data['Frequent_Losers']  # Target variable\n",
    "\n",
    "# Initialize ShuffleSplit\n",
    "shuffle_split = ShuffleSplit(n_splits=1, test_size=0.2, random_state=42)\n",
    "\n",
    "# Split the data\n",
    "for train_index, test_index in shuffle_split.split(X):\n",
    "    X_train, X_test = X.iloc[train_index], X.iloc[test_index]\n",
    "    y_train, y_test = y.iloc[train_index], y.iloc[test_index]\n",
    "\n",
    "# Print the shapes of train and test sets\n",
    "print(\"ShuffleSplit:\")\n",
    "print(\"X_train shape:\", X_train.shape)\n",
    "print(\"X_test shape:\", X_test.shape)\n",
    "print(\"y_train shape:\", y_train.shape)\n",
    "print(\"y_test shape:\", y_test.shape)"
   ]
  },
  {
   "cell_type": "code",
   "execution_count": 3,
   "metadata": {},
   "outputs": [
    {
     "name": "stdout",
     "output_type": "stream",
     "text": [
      "train_test_split:\n",
      "X_train shape: (80000, 5)\n",
      "X_test shape: (20000, 5)\n",
      "y_train shape: (80000,)\n",
      "y_test shape: (20000,)\n"
     ]
    }
   ],
   "source": [
    "from sklearn.model_selection import train_test_split\n",
    "\n",
    "# Load the dataset\n",
    "data = pd.read_csv('customers.csv')\n",
    "\n",
    "# Define the features and target variable\n",
    "X = data.drop(columns=['Frequent_Losers'])  # Features\n",
    "y = data['Frequent_Losers']  # Target variable\n",
    "\n",
    "# Split the data using train_test_split\n",
    "X_train, X_test, y_train, y_test = train_test_split(X, y, test_size=0.2, random_state=42)\n",
    "\n",
    "# Print the shapes of train and test sets\n",
    "print(\"train_test_split:\")\n",
    "print(\"X_train shape:\", X_train.shape)\n",
    "print(\"X_test shape:\", X_test.shape)\n",
    "print(\"y_train shape:\", y_train.shape)\n",
    "print(\"y_test shape:\", y_test.shape)"
   ]
  }
 ],
 "metadata": {
  "kernelspec": {
   "display_name": "Python 3",
   "language": "python",
   "name": "python3"
  },
  "language_info": {
   "codemirror_mode": {
    "name": "ipython",
    "version": 3
   },
   "file_extension": ".py",
   "mimetype": "text/x-python",
   "name": "python",
   "nbconvert_exporter": "python",
   "pygments_lexer": "ipython3",
   "version": "3.12.3"
  }
 },
 "nbformat": 4,
 "nbformat_minor": 2
}
